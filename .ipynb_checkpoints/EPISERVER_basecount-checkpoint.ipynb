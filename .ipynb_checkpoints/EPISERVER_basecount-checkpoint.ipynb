{
 "cells": [
  {
   "cell_type": "code",
   "execution_count": 10,
   "metadata": {},
   "outputs": [],
   "source": [
    "import requests\n",
    "import pandas as pd\n",
    "import json\n",
    "import yaml\n",
    "from datetime import date"
   ]
  },
  {
   "cell_type": "code",
   "execution_count": 16,
   "metadata": {},
   "outputs": [
    {
     "name": "stdout",
     "output_type": "stream",
     "text": [
      "                                info\n",
      "PASSWORD                   Kov248241\n",
      "USER      frederikhestvang@gmail.com\n"
     ]
    }
   ],
   "source": [
    "with open(\"EPI_USER.yaml\", 'r') as stream:\n",
    "    try:\n",
    "        env_vars = pd.DataFrame(yaml.safe_load(stream))\n",
    "        print(env_vars)\n",
    "    except yaml.YAMLError as exc:\n",
    "        print(exc)"
   ]
  },
  {
   "cell_type": "code",
   "execution_count": 17,
   "metadata": {},
   "outputs": [],
   "source": [
    "password = env_vars.iloc[0, 0]\n",
    "username = env_vars.iloc[1, 0]"
   ]
  },
  {
   "cell_type": "code",
   "execution_count": 19,
   "metadata": {},
   "outputs": [],
   "source": [
    "req_url = 'https://api.campaign.episerver.net/rest/252186639077/recipients/252186639082/count'\n",
    "r = requests.get(req_url , \n",
    "                 auth=(username, password))\n",
    "\n",
    "req_df = pd.DataFrame(r.json())\n",
    "count = req_df[\"count\"][0]\n",
    "today = date.today().strftime(\"%d/%m/%Y\")\n"
   ]
  },
  {
   "cell_type": "code",
   "execution_count": 21,
   "metadata": {},
   "outputs": [
    {
     "name": "stdout",
     "output_type": "stream",
     "text": [
      "         date  count\n",
      "0  04/09/2019  72327\n"
     ]
    }
   ],
   "source": [
    "master_df = pd.DataFrame(columns = [\"date\", \"count\"])\n",
    "append_df = pd.DataFrame({\"date\": [today], \"count\": [count]})\n",
    "master_df = master_df.append(append_df)\n",
    "print(master_df)"
   ]
  }
 ],
 "metadata": {
  "kernelspec": {
   "display_name": "Python 3",
   "language": "python",
   "name": "python3"
  },
  "language_info": {
   "codemirror_mode": {
    "name": "ipython",
    "version": 3
   },
   "file_extension": ".py",
   "mimetype": "text/x-python",
   "name": "python",
   "nbconvert_exporter": "python",
   "pygments_lexer": "ipython3",
   "version": "3.6.5"
  }
 },
 "nbformat": 4,
 "nbformat_minor": 2
}
